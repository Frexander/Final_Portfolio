{
 "cells": [
  {
   "cell_type": "code",
   "execution_count": 3,
   "metadata": {},
   "outputs": [],
   "source": [
    "import yfinance as yf\n",
    "import os"
   ]
  },
  {
   "cell_type": "code",
   "execution_count": 4,
   "metadata": {},
   "outputs": [],
   "source": [
    "stocks = [\n",
    "    'AAPL', 'MSFT', 'GOOGL', 'AMZN', 'META', 'NVDA', 'TSLA', 'BABA', 'NOW', 'ADBE',\n",
    "    'CRM', 'V', 'KO', 'PFE', 'PEP', 'INTC', 'CSCO', 'IBM', 'NFLX', 'ORCL'\n",
    "]\n",
    "\n",
    "# historical data for this time period\n",
    "start_period = '2018-01-01'\n",
    "end_period = '2022-12-31'"
   ]
  },
  {
   "cell_type": "code",
   "execution_count": 5,
   "metadata": {},
   "outputs": [
    {
     "name": "stdout",
     "output_type": "stream",
     "text": [
      "All datasets have been downloaded successfully.\n"
     ]
    }
   ],
   "source": [
    "# making a folder that is meant to keep stock datasets incase there isnt one already made.\n",
    "def create_folder():\n",
    "    if not os.path.exists('Stocks'):\n",
    "        os.makedirs('Stocks')\n",
    "\n",
    "# the function meant for downloading and storing each dataset of the 20 stocks\n",
    "def download_stock_dataset(stock):\n",
    "    try:\n",
    "        #print(f'Downloading data for {stock}...')\n",
    "        data = yf.download(stock, start=start_period, end=end_period, progress=False)\n",
    "        data.to_csv(f'Stocks/{stock}.csv')\n",
    "        #print(f'Download completed for {stock}.')\n",
    "    except Exception as e:\n",
    "        print(f'logging for errors for the stock {stock}: {e}')\n",
    "\n",
    "def main():\n",
    "    create_folder()\n",
    "    # downloaading stock datasets and storing them as CSV\n",
    "    for stock in stocks:\n",
    "        download_stock_dataset(stock)\n",
    "    print('All datasets have been downloaded successfully.')\n",
    "\n",
    "# starting\n",
    "if __name__ == \"__main__\":\n",
    "    main()"
   ]
  }
 ],
 "metadata": {
  "kernelspec": {
   "display_name": "myenv",
   "language": "python",
   "name": "python3"
  },
  "language_info": {
   "codemirror_mode": {
    "name": "ipython",
    "version": 3
   },
   "file_extension": ".py",
   "mimetype": "text/x-python",
   "name": "python",
   "nbconvert_exporter": "python",
   "pygments_lexer": "ipython3",
   "version": "3.13.0"
  }
 },
 "nbformat": 4,
 "nbformat_minor": 2
}
