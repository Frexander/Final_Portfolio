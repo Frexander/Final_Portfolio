{
  "nbformat": 4,
  "nbformat_minor": 0,
  "metadata": {
    "colab": {
      "provenance": [],
      "authorship_tag": "ABX9TyOKzC6UMwvTOmHtrqH+Wmhd",
      "include_colab_link": true
    },
    "kernelspec": {
      "name": "python3",
      "display_name": "Python 3"
    },
    "language_info": {
      "name": "python"
    }
  },
  "cells": [
    {
      "cell_type": "markdown",
      "metadata": {
        "id": "view-in-github",
        "colab_type": "text"
      },
      "source": [
        "<a href=\"https://colab.research.google.com/github/Frexander/Final_Portfolio/blob/master/PSO_VRPTW_alt3.ipynb\" target=\"_parent\"><img src=\"https://colab.research.google.com/assets/colab-badge.svg\" alt=\"Open In Colab\"/></a>"
      ]
    },
    {
      "cell_type": "code",
      "execution_count": 1,
      "metadata": {
        "id": "1aRrB0LFcqml",
        "colab": {
          "base_uri": "https://localhost:8080/"
        },
        "collapsed": true,
        "outputId": "38da5b87-f384-4f0b-b574-cd13eb1dbc0c"
      },
      "outputs": [
        {
          "output_type": "stream",
          "name": "stdout",
          "text": [
            "Requirement already satisfied: pandas in /usr/local/lib/python3.10/dist-packages (2.2.2)\n",
            "Requirement already satisfied: numpy>=1.22.4 in /usr/local/lib/python3.10/dist-packages (from pandas) (1.26.4)\n",
            "Requirement already satisfied: python-dateutil>=2.8.2 in /usr/local/lib/python3.10/dist-packages (from pandas) (2.8.2)\n",
            "Requirement already satisfied: pytz>=2020.1 in /usr/local/lib/python3.10/dist-packages (from pandas) (2024.2)\n",
            "Requirement already satisfied: tzdata>=2022.7 in /usr/local/lib/python3.10/dist-packages (from pandas) (2024.2)\n",
            "Requirement already satisfied: six>=1.5 in /usr/local/lib/python3.10/dist-packages (from python-dateutil>=2.8.2->pandas) (1.16.0)\n",
            "Requirement already satisfied: requests in /usr/local/lib/python3.10/dist-packages (2.32.3)\n",
            "Requirement already satisfied: charset-normalizer<4,>=2 in /usr/local/lib/python3.10/dist-packages (from requests) (3.4.0)\n",
            "Requirement already satisfied: idna<4,>=2.5 in /usr/local/lib/python3.10/dist-packages (from requests) (3.10)\n",
            "Requirement already satisfied: urllib3<3,>=1.21.1 in /usr/local/lib/python3.10/dist-packages (from requests) (2.2.3)\n",
            "Requirement already satisfied: certifi>=2017.4.17 in /usr/local/lib/python3.10/dist-packages (from requests) (2024.8.30)\n",
            "Requirement already satisfied: numpy in /usr/local/lib/python3.10/dist-packages (1.26.4)\n"
          ]
        }
      ],
      "source": [
        "# Install necesarry packages\n",
        "! pip install pandas\n",
        "! pip install requests\n",
        "! pip install numpy"
      ]
    },
    {
      "cell_type": "code",
      "source": [
        "# Import necesarry libraries\n",
        "import pandas as pd\n",
        "import requests\n",
        "import io\n",
        "import numpy as np\n",
        "import random\n",
        "import copy\n",
        "import time"
      ],
      "metadata": {
        "id": "F4Zx9dcldYaI"
      },
      "execution_count": 2,
      "outputs": []
    },
    {
      "cell_type": "code",
      "source": [
        "# Downolad Solomon dataset c101.txt, convert it to a pandas dataset and store it as a csv-file. Save both original .txt- and .csv-file.\n",
        "\n",
        "def download_solomon_dataset():\n",
        "  url = \"https://people.idsia.ch/~luca/macs-vrptw/problems/c101.txt\"\n",
        "\n",
        "  try:\n",
        "    response = requests.get(url)          # Downolad dataset\n",
        "    response.raise_for_status()            # Check if downolad is successful\n",
        "    content = response.text                # Read dataset and split dataset into lines\n",
        "    lines = content.strip().split('\\n')\n",
        "    data_lines = lines[9:]                # Exclude the first 9 lines of the dataset (Information about the dataset)\n",
        "    customer_data = []\n",
        "\n",
        "    for line in data_lines:               # Split each line into collumns and create a pandas dataset\n",
        "      values = line.strip().split()\n",
        "      if len(values) == 7:\n",
        "        customer_data.append({\n",
        "            'CUST_NO': int(values[0]),\n",
        "            'X_COORD': float(values[1]),\n",
        "            'Y_COORD': float(values[2]),\n",
        "            'DEMAND': float(values[3]),\n",
        "            'READY_TIME': float(values[4]),\n",
        "            'DUE_DATE': float(values[5]),\n",
        "            'SERVICE_TIME': float(values[6])\n",
        "        })\n",
        "\n",
        "    df = pd.DataFrame(customer_data)\n",
        "\n",
        "    df.to_csv('c101.csv', index = False)\n",
        "    with open('c101.txt', 'w') as f:\n",
        "      f.write(content)\n",
        "\n",
        "    print(\"Both .csv and .txt files saved successfully\")\n",
        "    return df\n",
        "\n",
        "  except requests.exceptions.RequestException as e:\n",
        "    print(f\"Download not sucessfull for file: {e}\")\n",
        "    return None\n",
        "\n",
        "df = download_solomon_dataset()\n",
        "\n",
        "if df is not None:\n",
        "  print(\"First five rows of dataset: \")\n",
        "  print(df.head(5).to_string(index = False))"
      ],
      "metadata": {
        "id": "RL1CPkHLdbRV",
        "colab": {
          "base_uri": "https://localhost:8080/"
        },
        "collapsed": true,
        "outputId": "21a8e6e0-b460-4f1f-f0d2-2c39bbbafe55"
      },
      "execution_count": 3,
      "outputs": [
        {
          "output_type": "stream",
          "name": "stdout",
          "text": [
            "Both .csv and .txt files saved successfully\n",
            "First five rows of dataset: \n",
            " CUST_NO  X_COORD  Y_COORD  DEMAND  READY_TIME  DUE_DATE  SERVICE_TIME\n",
            "       0     40.0     50.0     0.0         0.0    1236.0           0.0\n",
            "       1     45.0     68.0    10.0       912.0     967.0          90.0\n",
            "       2     45.0     70.0    30.0       825.0     870.0          90.0\n",
            "       3     42.0     66.0    10.0        65.0     146.0          90.0\n",
            "       4     42.0     68.0    10.0       727.0     782.0          90.0\n"
          ]
        }
      ]
    },
    {
      "cell_type": "code",
      "source": [
        "# Calculate Eucledian distance between each customer and all other customers\n",
        "# Add a collumn for each customer such that each row (representing one customer) has one cell with distance to each other customer (represented in collumns)\n",
        "# Visualize first 10 rows\n",
        "\n",
        "def create_distance_matrix(df):\n",
        "  customer_details = df[['CUST_NO', 'DEMAND', 'READY_TIME', 'DUE_DATE', 'SERVICE_TIME']].copy()\n",
        "\n",
        "  distance_columns = {}     # Dictionary for storing all distance columns.\n",
        "\n",
        "  for dest_customer in df['CUST_NO']:\n",
        "    x2 = df[df['CUST_NO'] == dest_customer]['X_COORD'].values[0]\n",
        "    y2 = df[df['CUST_NO'] == dest_customer]['Y_COORD'].values[0]\n",
        "\n",
        "    distance = []\n",
        "    for index, row in df.iterrows():\n",
        "      x1 = row['X_COORD']\n",
        "      y1 = row['Y_COORD']\n",
        "      dist = np.sqrt((x2 - x1)**2 + (y2 - y1)**2)\n",
        "      distance.append(round(dist, 2))\n",
        "\n",
        "    distance_columns[f\"DIST_TO_{dest_customer}\"] = distance     # Store ech distance column in this dictionary\n",
        "\n",
        "  distance_df = pd.DataFrame(distance_columns)\n",
        "\n",
        "  distance_matrix = pd.concat([customer_details, distance_df], axis = 1)\n",
        "\n",
        "  return distance_matrix\n",
        "\n",
        "distance_matrix = create_distance_matrix(df)\n",
        "\n",
        "print(\"Distance matrix (first 10 rows): \")\n",
        "print(distance_matrix.head(10).to_string(index = False))\n",
        "\n",
        "distance_matrix.to_csv('C101 distance_matrix.csv', index = False)"
      ],
      "metadata": {
        "colab": {
          "base_uri": "https://localhost:8080/"
        },
        "collapsed": true,
        "id": "vS2qMb1aVLn1",
        "outputId": "e982320d-2640-43e8-d82b-766ae0fd6973"
      },
      "execution_count": 4,
      "outputs": [
        {
          "output_type": "stream",
          "name": "stdout",
          "text": [
            "Distance matrix (first 10 rows): \n",
            " CUST_NO  DEMAND  READY_TIME  DUE_DATE  SERVICE_TIME  DIST_TO_0  DIST_TO_1  DIST_TO_2  DIST_TO_3  DIST_TO_4  DIST_TO_5  DIST_TO_6  DIST_TO_7  DIST_TO_8  DIST_TO_9  DIST_TO_10  DIST_TO_11  DIST_TO_12  DIST_TO_13  DIST_TO_14  DIST_TO_15  DIST_TO_16  DIST_TO_17  DIST_TO_18  DIST_TO_19  DIST_TO_20  DIST_TO_21  DIST_TO_22  DIST_TO_23  DIST_TO_24  DIST_TO_25  DIST_TO_26  DIST_TO_27  DIST_TO_28  DIST_TO_29  DIST_TO_30  DIST_TO_31  DIST_TO_32  DIST_TO_33  DIST_TO_34  DIST_TO_35  DIST_TO_36  DIST_TO_37  DIST_TO_38  DIST_TO_39  DIST_TO_40  DIST_TO_41  DIST_TO_42  DIST_TO_43  DIST_TO_44  DIST_TO_45  DIST_TO_46  DIST_TO_47  DIST_TO_48  DIST_TO_49  DIST_TO_50  DIST_TO_51  DIST_TO_52  DIST_TO_53  DIST_TO_54  DIST_TO_55  DIST_TO_56  DIST_TO_57  DIST_TO_58  DIST_TO_59  DIST_TO_60  DIST_TO_61  DIST_TO_62  DIST_TO_63  DIST_TO_64  DIST_TO_65  DIST_TO_66  DIST_TO_67  DIST_TO_68  DIST_TO_69  DIST_TO_70  DIST_TO_71  DIST_TO_72  DIST_TO_73  DIST_TO_74  DIST_TO_75  DIST_TO_76  DIST_TO_77  DIST_TO_78  DIST_TO_79  DIST_TO_80  DIST_TO_81  DIST_TO_82  DIST_TO_83  DIST_TO_84  DIST_TO_85  DIST_TO_86  DIST_TO_87  DIST_TO_88  DIST_TO_89  DIST_TO_90  DIST_TO_91  DIST_TO_92  DIST_TO_93  DIST_TO_94  DIST_TO_95  DIST_TO_96  DIST_TO_97  DIST_TO_98  DIST_TO_99  DIST_TO_100\n",
            "       0     0.0         0.0    1236.0           0.0       0.00      18.68      20.62      16.12      18.11      15.13      19.00      16.00      18.11      20.10       16.76       19.65       38.08       30.81       39.36       36.06       40.31       33.30       35.36       39.05       10.00       10.20       12.17       13.00       15.00       15.13       15.81       17.12       17.72       20.00       20.62       33.54       31.62       33.53       32.39       38.08       35.36       39.29       41.23       40.31       20.62       18.68       19.31       16.55       21.54       22.36       20.59       18.03       23.32       19.21       22.80       25.00       21.21       45.18       40.05       35.06       45.00       35.00       45.04       35.06       45.28       22.36       18.03       14.14       21.54       12.81       16.55       12.21       20.62       15.81       58.52       57.01       23.85       55.71       19.85       15.81       52.20       52.00       50.29       51.08       51.48       47.43       35.36       32.39       31.05       29.73       26.48       25.50       26.93       24.35       20.62       22.36       44.20       43.01       40.61       37.20       36.06       40.31       30.81       33.54        38.08\n",
            "       1    10.0       912.0     967.0          90.0      18.68       0.00       2.00       3.61       3.00       4.24       5.10       5.39       7.00       7.28       10.20       10.05       26.25       24.04       28.60       27.73       30.23       27.89       30.81       32.31       23.43       21.93       23.35       21.40       26.91       25.61       23.85       27.20       25.55       30.81       28.18       48.10       44.82       46.40       43.57       51.86       46.14       51.31       53.00       50.54       39.29       37.36       37.95       35.11       40.16       40.85       39.00       36.25       41.63       37.12       40.71       42.94       38.59       63.01       58.08       53.08       63.20       53.24       63.39       53.46       63.79       38.33       33.38       28.44       38.12       28.16       33.06       28.07       38.00       33.00       62.80       59.91       38.83       60.44       33.96        3.00       55.80       57.38       54.20       56.64       58.73       51.86       32.70       29.97       26.93       24.35       24.70       23.85       21.54       20.59       19.85       17.00       27.80       26.25       24.41       20.81       19.21       22.67       14.76       15.62        19.72\n",
            "       2    30.0       825.0     870.0          90.0      20.62       2.00       0.00       5.00       3.61       5.83       5.10       6.40       7.28       7.00       10.77       10.05       25.00       23.54       27.46       26.93       29.15       27.46       30.41       31.62       25.00       23.43       24.76       22.67       28.28       26.91       25.00       28.43       26.63       32.02       29.15       49.50       46.10       47.63       44.65       53.15       47.17       52.43       54.08       51.48       41.23       39.29       39.85       37.00       42.06       42.72       40.85       38.08       43.46       38.91       42.49       44.72       40.31       65.01       60.07       55.08       65.19       55.23       65.38       55.44       65.76       40.31       35.36       30.41       40.11       30.15       35.06       30.07       40.00       35.00       64.03       61.03       40.79       61.72       35.90        5.00       57.01       58.73       55.44       58.00       60.21       53.15       33.54       30.89       27.73       25.08       25.81       25.00       22.36       21.63       21.21       18.03       26.63       25.00       23.32       19.72       18.03       21.21       13.93       14.14        18.03\n",
            "       3    10.0        65.0     146.0          90.0      16.12       3.61       5.00       0.00       2.00       1.00       3.61       2.00       4.47       5.66        7.00        7.62       25.50       21.93       27.59       26.08       29.07       25.63       28.46       30.41       20.00       18.44       19.80       17.80       23.35       22.02       20.25       23.60       21.95       27.20       24.60       44.55       41.23       42.80       39.96       48.27       42.54       47.71       49.40       46.96       36.67       34.71       35.17       32.28       37.36       37.95       36.06       33.24       38.63       34.01       37.58       39.81       35.36       61.03       56.00       51.00       61.03       51.04       61.13       51.16       61.40       36.88       32.02       27.20       36.50       26.68       31.40       26.48       36.12       31.14       64.07       61.40       37.64       61.61       32.89        3.16       57.14       58.41       55.47       57.63       59.41       53.01       34.79       31.95       29.12       26.68       26.40       25.50       23.77       22.47       21.10       18.97       31.40       29.83       28.02       24.41       22.80       26.17       18.36       19.10        23.02\n",
            "       4    10.0       727.0     782.0          90.0      18.11       3.00       3.61       2.00       0.00       3.00       2.24       2.83       4.00       4.47        7.28        7.07       24.04       21.19       26.25       25.06       27.80       25.00       27.89       29.55       21.63       20.00       21.26       19.10       24.76       23.35       21.40       24.84       23.02       28.43       25.55       45.97       42.52       44.05       41.05       49.58       43.57       48.83       50.48       47.89       38.64       36.67       37.11       34.21       39.29       39.85       37.95       35.11       40.50       35.85       39.40       41.63       37.12       63.03       58.00       53.00       63.03       53.04       63.13       53.15       63.39       38.83       33.96       29.12       38.47       28.64       33.38       28.44       38.12       33.14       65.22       62.43       39.56       62.80       34.79        4.24       58.25       59.67       56.61       58.90       60.81       54.20       35.47       32.70       29.73       27.20       27.29       26.42       24.35       23.26       22.20       19.70       30.23       28.60       26.93       23.32       21.63       24.76       17.46       17.69        21.40\n",
            "       5    10.0        15.0      67.0          90.0      15.13       4.24       5.83       1.00       3.00       0.00       4.47       2.24       5.00       6.40        7.07        8.06       26.25       22.36       28.28       26.63       29.73       26.00       28.79       30.89       19.21       17.69       19.10       17.20       22.67       21.40       19.72       23.02       21.47       26.63       24.17       43.86       40.61       42.20       39.45       47.63       42.06       47.17       48.88       46.52       35.69       33.73       34.21       31.32       36.40       37.00       35.11       32.31       37.70       33.11       36.67       38.91       34.48       60.03       55.00       50.00       60.03       50.04       60.13       50.16       60.41       35.90       31.05       26.25       35.51       25.71       30.41       25.50       35.13       30.15       63.51       60.90       36.69       61.03       31.95        3.00       56.60       57.80       54.92       57.01       58.73       52.43       34.48       31.62       28.86       26.48       26.00       25.08       23.54       22.14       20.59       18.68       32.02       30.48       28.60       25.00       23.43       26.91       18.87       19.85        23.85\n",
            "       6    20.0       621.0     702.0          90.0      19.00       5.10       5.10       3.61       2.24       4.47       0.00       3.00       2.24       2.24        5.83        5.00       21.93       18.97       24.08       22.83       25.61       22.80       25.71       27.31       21.47       19.72       20.81       18.44       24.21       22.67       20.52       24.04       22.02       27.59       24.41       45.34       41.73       43.19       40.00       48.80       42.44       47.80       49.41       46.65       39.32       37.34       37.66       34.71       39.81       40.26       38.33       35.44       40.80       36.06       39.56       41.79       37.16       64.12       59.03       54.04       64.00       54.00       64.03       54.04       64.20       40.26       35.44       30.68       39.81       30.08       34.71       29.83       39.32       34.37       67.42       64.66       41.11       65.00       36.40        6.40       60.46       61.85       58.82       61.07       62.94       56.40       37.70       34.93       31.95       29.41       29.53       28.65       26.57       25.50       24.41       21.93       31.38       29.68       28.18       24.60       22.83       25.61       18.97       18.60        21.93\n",
            "       7    20.0       170.0     225.0          90.0      16.00       5.39       6.40       2.00       2.83       2.24       3.00       0.00       2.83       4.47        5.00        5.83       24.21       20.12       26.17       24.41       27.59       23.77       26.57       28.65       18.87       17.20       18.44       16.28       21.93       20.52       18.60       22.02       20.25       25.61       22.83       43.14       39.70       41.23       38.28       46.75       40.82       46.04       47.71       45.18       36.35       34.37       34.71       31.78       36.88       37.36       35.44       32.57       37.95       33.24       36.77       39.00       34.44       61.13       56.04       51.04       61.00       51.00       61.03       51.04       61.20       37.36       32.57       27.86       36.88       27.20       31.78       26.93       36.35       31.40       65.73       63.13       38.28       63.25       33.62        5.10       58.83       60.00       57.14       59.20       60.88       54.64       36.69       33.84       31.05       28.64       28.23       27.31       25.71       24.35       22.83       20.88       33.02       31.40       29.68       26.08       24.41       27.59       20.12       20.52        24.21\n",
            "       8    20.0       255.0     324.0          90.0      18.11       7.00       7.28       4.47       4.00       5.00       2.24       2.83       0.00       2.00        3.61        3.16       21.40       17.46       23.35       21.63       24.76       21.19       24.04       25.94       19.70       17.89       18.87       16.40       22.20       20.62       18.38       21.93       19.85       25.46       22.20       43.28       39.60       41.04       37.80       46.67       40.22       45.61       47.20       44.42       38.12       36.12       36.35       33.38       38.47       38.83       36.88       33.96       39.29       34.48       37.95       40.16       35.47       63.29       58.14       53.15       63.03       53.04       63.00       53.00       63.07       39.85       35.11       30.46       39.29       29.73       34.21       29.41       38.64       33.73       68.51       65.86       40.85       66.03       36.25        7.62       61.59       62.80       59.91       62.01       63.70       57.43       39.22       36.40       33.53       31.05       30.87       29.97       28.16       26.93       25.55       23.41       33.62       31.91       30.41       26.83       25.06       27.80       21.19       20.81        24.04\n",
            "       9    10.0       534.0     605.0          90.0      20.10       7.28       7.00       5.66       4.47       6.40       2.24       4.47       2.00       0.00        5.00        3.16       19.85       16.76       21.93       20.59       23.43       20.62       23.54       25.08       21.54       19.70       20.59       18.03       23.85       22.20       19.85       23.43       21.21       26.91       23.43       44.82       41.04       42.43       39.05       48.10       41.40       46.86       48.41       45.49       40.11       38.12       38.33       35.36       40.45       40.79       38.83       35.90       41.23       36.40       39.85       42.06       37.34       65.28       60.13       55.15       65.03       55.04       65.00       55.00       65.07       41.76       37.00       32.31       41.23       31.62       36.14       31.32       40.61       35.69       69.63       66.89       42.72       67.20       38.08        8.60       62.68       64.03       61.03       63.25       65.07       58.60       39.92       37.16       34.18       31.62       31.76       30.89       28.79       27.73       26.63       24.17       32.65       30.89       29.55       26.00       24.17       26.63       20.62       19.72        22.67\n"
          ]
        }
      ]
    },
    {
      "cell_type": "code",
      "source": [
        "# ALTERNATIVE 1: GLOBAL BEST\n",
        "\n",
        "# Define number of particles, c1, c2, Vmax (negihborhoos size: fully connected swarm)\n",
        "num_particles = 30\n",
        "c1 = 2.0\n",
        "c2 = 2.0\n",
        "w = 0.7\n",
        "Vmax = 0.1    # Best guess\n",
        "\n",
        "# Constraints defined in dataset\n",
        "vehicle_capacity = 200\n",
        "max_route_duration = 1236\n",
        "\n",
        "# Define fitness function / constraints\n",
        "    # Number of vehicles\n",
        "    # Distance from depot, through all customers and back to depot\n",
        "    # Load violation\n",
        "    # Arriving too early\n",
        "    # Arriving too late\n",
        "    # Travel time = dsitance + time difference if arriving too early + service time\n",
        "    # Cost = distance, time, load violation (10 irrespective of weight overlaod), arriving too late (number of minutes?)"
      ],
      "metadata": {
        "id": "rjM9tPW6J4yM"
      },
      "execution_count": null,
      "outputs": []
    },
    {
      "cell_type": "code",
      "source": [
        "# Initialise Position (Random routes for each particle, each particle is a nested list of customers in random order of delivery)\n",
        "\n",
        "# Set personalbest to current position and global best to None\n"
      ],
      "metadata": {
        "id": "jQlhSwjTADPs"
      },
      "execution_count": null,
      "outputs": []
    },
    {
      "cell_type": "code",
      "source": [
        "# Initialise velocity (number of changes in routes per iteration)\n"
      ],
      "metadata": {
        "id": "8q73SWLHMdsy"
      },
      "execution_count": null,
      "outputs": []
    },
    {
      "cell_type": "code",
      "source": [
        "# Update velocity (changes the order of x number of customers in/between y number of routes)\n"
      ],
      "metadata": {
        "id": "lr-zQpWTEcgX"
      },
      "execution_count": null,
      "outputs": []
    },
    {
      "cell_type": "code",
      "source": [
        "# Update position (new particles position defined by number of routes and order of customers in each route)"
      ],
      "metadata": {
        "id": "RzmwcIlvW3DR"
      },
      "execution_count": null,
      "outputs": []
    },
    {
      "cell_type": "code",
      "source": [
        "# The PSO-algorithm\n",
        "\n",
        "# Define termintaion criteria (number of iterations to start with)\n",
        "\n",
        "# Random initialisation of position\n",
        "\n",
        "# Set velocity to 0\n",
        "\n",
        "    # Evaluate fitness\n",
        "        # Distance from depot, through all customers and back to depot\n",
        "        # Load violation\n",
        "        # Arriving too early\n",
        "        # Arriving too late\n",
        "        # Travel time = dsitance + time difference if arriving too early + service time\n",
        "        # Cost = dsitance, time, load, arriving too late\n",
        "\n",
        "    # Print cost for each particle, personal best and global best\n",
        "\n",
        "    # Define velocity\n",
        "\n",
        "    # Calculate new position\n",
        "\n",
        "# Visualise progress for each påarticle, improvement in global best and difference between best and worst particle at termination\n",
        "\n"
      ],
      "metadata": {
        "collapsed": true,
        "id": "HaGCQkgbNZqI"
      },
      "execution_count": null,
      "outputs": []
    },
    {
      "cell_type": "code",
      "source": [
        "# Improvement posibilities\n",
        "# Include X/Y coordinates for customers\n",
        "# Group custoers by y-coordinate interval\n",
        "# Group customers in siimilar y-coordinate intervall based on x-coordinate\n",
        "# Send separate vehocles to each \"neighbourhood\" of customers\n",
        "# Size of neighbourhood is number of customers and depends on level of clustering\n",
        "# Large neighbourhoods/many customer in same cluster requires mutliple vehicles."
      ],
      "metadata": {
        "id": "0tYMyx27L8b1"
      },
      "execution_count": null,
      "outputs": []
    }
  ]
}